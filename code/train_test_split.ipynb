{
 "cells": [
  {
   "cell_type": "code",
   "execution_count": 1,
   "id": "91d23e3c-7972-48f4-af5e-90f8c1285fbc",
   "metadata": {},
   "outputs": [],
   "source": [
    "import pandas as pd\n",
    "import json\n",
    "from datetime import datetime"
   ]
  },
  {
   "cell_type": "code",
   "execution_count": 2,
   "id": "41928c4e-5b5f-423a-b2e1-6a45ea16b25c",
   "metadata": {},
   "outputs": [],
   "source": [
    "#reading the raw data file\n",
    "with open('../data/location_task_no_nulls.json','r') as f:\n",
    "    data_dict = json.load(f)"
   ]
  },
  {
   "cell_type": "code",
   "execution_count": 3,
   "id": "d0b942ee-ddfd-45f8-88c1-f3b6e4c45365",
   "metadata": {},
   "outputs": [
    {
     "name": "stdout",
     "output_type": "stream",
     "text": [
      "dict_keys(['order_id', 'order_value', 'order_items_count', 'customer_id', 'created_timestamp_local', 'has_instruction', 'logistics_dropoff_distance', 'delivery_postal_code', 'delivery_geohash_precision8', 'has_phone_number', 'has_call_instruction', 'has_leave_instruction', 'has_lift_instruction', 'has_lobby_instruction', 'has_gate_instruction', 'has_knock_instruction', 'has_bell_instruction'])\n"
     ]
    }
   ],
   "source": [
    "print(data_dict.keys())"
   ]
  },
  {
   "cell_type": "code",
   "execution_count": 4,
   "id": "c80bfc28-4953-491b-88d7-7e90b727619e",
   "metadata": {},
   "outputs": [
    {
     "name": "stdout",
     "output_type": "stream",
     "text": [
      "order_id : <class 'dict'>\n",
      "order_value : <class 'dict'>\n",
      "order_items_count : <class 'dict'>\n",
      "customer_id : <class 'dict'>\n",
      "created_timestamp_local : <class 'dict'>\n",
      "has_instruction : <class 'dict'>\n",
      "logistics_dropoff_distance : <class 'dict'>\n",
      "delivery_postal_code : <class 'dict'>\n",
      "delivery_geohash_precision8 : <class 'dict'>\n",
      "has_phone_number : <class 'dict'>\n",
      "has_call_instruction : <class 'dict'>\n",
      "has_leave_instruction : <class 'dict'>\n",
      "has_lift_instruction : <class 'dict'>\n",
      "has_lobby_instruction : <class 'dict'>\n",
      "has_gate_instruction : <class 'dict'>\n",
      "has_knock_instruction : <class 'dict'>\n",
      "has_bell_instruction : <class 'dict'>\n"
     ]
    }
   ],
   "source": [
    "for key in data_dict.keys():\n",
    "    print(key, ':', type(data_dict[key]))"
   ]
  },
  {
   "cell_type": "code",
   "execution_count": 5,
   "id": "8da272da-0b46-4736-aa30-84f3a4302912",
   "metadata": {},
   "outputs": [
    {
     "name": "stdout",
     "output_type": "stream",
     "text": [
      "['618', '619', '620', '621', '622', '623', '624', '625', '626', '627']\n"
     ]
    }
   ],
   "source": [
    "print(list(data_dict['order_id'].keys())[0:10])"
   ]
  },
  {
   "cell_type": "code",
   "execution_count": 6,
   "id": "5c7fa951-5312-47cf-8e74-70a66501a59e",
   "metadata": {},
   "outputs": [
    {
     "data": {
      "text/plain": [
       "'b8ds-tqhf'"
      ]
     },
     "execution_count": 6,
     "metadata": {},
     "output_type": "execute_result"
    }
   ],
   "source": [
    "data_dict['order_id']['618']"
   ]
  },
  {
   "cell_type": "code",
   "execution_count": 7,
   "id": "c4baf875-a02d-48c2-9e09-cbcd7f70f419",
   "metadata": {},
   "outputs": [
    {
     "name": "stdout",
     "output_type": "stream",
     "text": [
      "['618', '619', '620', '621', '622', '623', '624', '625', '626', '627']\n"
     ]
    }
   ],
   "source": [
    "print(list(data_dict['order_value'].keys())[0:10])"
   ]
  },
  {
   "cell_type": "code",
   "execution_count": 8,
   "id": "ea38c8e9-4bb9-489b-9720-160116d6c54b",
   "metadata": {},
   "outputs": [
    {
     "data": {
      "text/plain": [
       "40.44"
      ]
     },
     "execution_count": 8,
     "metadata": {},
     "output_type": "execute_result"
    }
   ],
   "source": [
    "data_dict['order_value']['618']"
   ]
  },
  {
   "cell_type": "markdown",
   "id": "18cb1101-2321-49a6-a4fc-a9b95b6241c6",
   "metadata": {},
   "source": [
    "### Finding\n",
    "* data_dict is a dict with column names as keys\n",
    "* Each data_dict[column] is also a dict object with row_number as key with data_dict[column][row_number] as the column value"
   ]
  },
  {
   "cell_type": "code",
   "execution_count": 9,
   "id": "66a85ac7-5eaa-44c3-8066-498b0c27dfb1",
   "metadata": {},
   "outputs": [
    {
     "name": "stdout",
     "output_type": "stream",
     "text": [
      "Length of smaller dataframes\n",
      "2593799\n",
      "2593799\n",
      "2593799\n",
      "2593799\n",
      "2593799\n",
      "2593799\n",
      "2593799\n",
      "2593799\n",
      "2593799\n",
      "2593799\n",
      "2593799\n",
      "2593799\n",
      "2593799\n",
      "2593799\n",
      "2593799\n",
      "2593799\n",
      "2593799\n",
      "Length of joined dataframe = 2593799\n"
     ]
    }
   ],
   "source": [
    "# converting data in dictionary to dataframes and then joining the dataframe on index to create a complete dataframe.\n",
    "dataframe_list = []\n",
    "print('Length of smaller dataframes')\n",
    "\n",
    "for column in data_dict.keys():\n",
    "    df = pd.DataFrame.from_dict(data_dict[column], orient='index', columns = [column]) #data is present in row format in each dictionary\n",
    "    print(len(df))\n",
    "    dataframe_list.append(df)\n",
    "full_data_df = dataframe_list[0].join(other=dataframe_list[1:], how='inner')\n",
    "print('Length of joined dataframe =', len(full_data_df))"
   ]
  },
  {
   "cell_type": "markdown",
   "id": "95a757aa-f2f3-472a-92ce-d95d2c2ce4ec",
   "metadata": {},
   "source": [
    "### Finding\n",
    "* Lengths of all dataframes and the final dataframe match. Hence, no row number is missing.\n"
   ]
  },
  {
   "cell_type": "code",
   "execution_count": 10,
   "id": "fa3b7c16-5376-4555-98be-312b8a241f58",
   "metadata": {},
   "outputs": [
    {
     "data": {
      "text/html": [
       "<div>\n",
       "<style scoped>\n",
       "    .dataframe tbody tr th:only-of-type {\n",
       "        vertical-align: middle;\n",
       "    }\n",
       "\n",
       "    .dataframe tbody tr th {\n",
       "        vertical-align: top;\n",
       "    }\n",
       "\n",
       "    .dataframe thead th {\n",
       "        text-align: right;\n",
       "    }\n",
       "</style>\n",
       "<table border=\"1\" class=\"dataframe\">\n",
       "  <thead>\n",
       "    <tr style=\"text-align: right;\">\n",
       "      <th></th>\n",
       "      <th>created_timestamp_local</th>\n",
       "    </tr>\n",
       "  </thead>\n",
       "  <tbody>\n",
       "    <tr>\n",
       "      <th>618</th>\n",
       "      <td>2021-03-11T20:19:50</td>\n",
       "    </tr>\n",
       "    <tr>\n",
       "      <th>619</th>\n",
       "      <td>2021-03-12T18:42:48</td>\n",
       "    </tr>\n",
       "    <tr>\n",
       "      <th>620</th>\n",
       "      <td>2021-03-27T11:29:17</td>\n",
       "    </tr>\n",
       "    <tr>\n",
       "      <th>621</th>\n",
       "      <td>2021-03-02T22:08:52</td>\n",
       "    </tr>\n",
       "    <tr>\n",
       "      <th>622</th>\n",
       "      <td>2021-03-23T20:35:26</td>\n",
       "    </tr>\n",
       "  </tbody>\n",
       "</table>\n",
       "</div>"
      ],
      "text/plain": [
       "    created_timestamp_local\n",
       "618     2021-03-11T20:19:50\n",
       "619     2021-03-12T18:42:48\n",
       "620     2021-03-27T11:29:17\n",
       "621     2021-03-02T22:08:52\n",
       "622     2021-03-23T20:35:26"
      ]
     },
     "execution_count": 10,
     "metadata": {},
     "output_type": "execute_result"
    }
   ],
   "source": [
    "dataframe_list[4].head()"
   ]
  },
  {
   "cell_type": "code",
   "execution_count": 11,
   "id": "9eacc3b5-390f-4fe1-96f2-14b203da1711",
   "metadata": {},
   "outputs": [
    {
     "data": {
      "text/html": [
       "<div>\n",
       "<style scoped>\n",
       "    .dataframe tbody tr th:only-of-type {\n",
       "        vertical-align: middle;\n",
       "    }\n",
       "\n",
       "    .dataframe tbody tr th {\n",
       "        vertical-align: top;\n",
       "    }\n",
       "\n",
       "    .dataframe thead th {\n",
       "        text-align: right;\n",
       "    }\n",
       "</style>\n",
       "<table border=\"1\" class=\"dataframe\">\n",
       "  <thead>\n",
       "    <tr style=\"text-align: right;\">\n",
       "      <th></th>\n",
       "      <th>order_id</th>\n",
       "      <th>order_value</th>\n",
       "      <th>order_items_count</th>\n",
       "      <th>customer_id</th>\n",
       "      <th>created_timestamp_local</th>\n",
       "      <th>has_instruction</th>\n",
       "      <th>logistics_dropoff_distance</th>\n",
       "      <th>delivery_postal_code</th>\n",
       "      <th>delivery_geohash_precision8</th>\n",
       "      <th>has_phone_number</th>\n",
       "      <th>has_call_instruction</th>\n",
       "      <th>has_leave_instruction</th>\n",
       "      <th>has_lift_instruction</th>\n",
       "      <th>has_lobby_instruction</th>\n",
       "      <th>has_gate_instruction</th>\n",
       "      <th>has_knock_instruction</th>\n",
       "      <th>has_bell_instruction</th>\n",
       "    </tr>\n",
       "  </thead>\n",
       "  <tbody>\n",
       "    <tr>\n",
       "      <th>618</th>\n",
       "      <td>b8ds-tqhf</td>\n",
       "      <td>40.44</td>\n",
       "      <td>10</td>\n",
       "      <td>h6huq0td</td>\n",
       "      <td>2021-03-11T20:19:50</td>\n",
       "      <td>True</td>\n",
       "      <td>58.656138</td>\n",
       "      <td>828868</td>\n",
       "      <td>w23bh248</td>\n",
       "      <td>False</td>\n",
       "      <td>False</td>\n",
       "      <td>False</td>\n",
       "      <td>False</td>\n",
       "      <td>False</td>\n",
       "      <td>False</td>\n",
       "      <td>False</td>\n",
       "      <td>False</td>\n",
       "    </tr>\n",
       "    <tr>\n",
       "      <th>619</th>\n",
       "      <td>x5xx-j2d2</td>\n",
       "      <td>35.60</td>\n",
       "      <td>10</td>\n",
       "      <td>t2nod4rq</td>\n",
       "      <td>2021-03-12T18:42:48</td>\n",
       "      <td>True</td>\n",
       "      <td>39.025148</td>\n",
       "      <td>530548</td>\n",
       "      <td>w21zu55k</td>\n",
       "      <td>False</td>\n",
       "      <td>False</td>\n",
       "      <td>False</td>\n",
       "      <td>False</td>\n",
       "      <td>False</td>\n",
       "      <td>False</td>\n",
       "      <td>False</td>\n",
       "      <td>False</td>\n",
       "    </tr>\n",
       "    <tr>\n",
       "      <th>620</th>\n",
       "      <td>x6qu-14kt</td>\n",
       "      <td>42.49</td>\n",
       "      <td>12</td>\n",
       "      <td>m4ycd3tm</td>\n",
       "      <td>2021-03-27T11:29:17</td>\n",
       "      <td>True</td>\n",
       "      <td>40.067811</td>\n",
       "      <td>650248</td>\n",
       "      <td>w21z9jc4</td>\n",
       "      <td>False</td>\n",
       "      <td>False</td>\n",
       "      <td>True</td>\n",
       "      <td>False</td>\n",
       "      <td>False</td>\n",
       "      <td>False</td>\n",
       "      <td>False</td>\n",
       "      <td>False</td>\n",
       "    </tr>\n",
       "    <tr>\n",
       "      <th>621</th>\n",
       "      <td>x3yw-rhc5</td>\n",
       "      <td>14.40</td>\n",
       "      <td>11</td>\n",
       "      <td>sgmnf9sb</td>\n",
       "      <td>2021-03-02T22:08:52</td>\n",
       "      <td>True</td>\n",
       "      <td>44.986785</td>\n",
       "      <td>550105</td>\n",
       "      <td>w21zg97y</td>\n",
       "      <td>False</td>\n",
       "      <td>False</td>\n",
       "      <td>False</td>\n",
       "      <td>False</td>\n",
       "      <td>False</td>\n",
       "      <td>False</td>\n",
       "      <td>False</td>\n",
       "      <td>False</td>\n",
       "    </tr>\n",
       "    <tr>\n",
       "      <th>622</th>\n",
       "      <td>y9zp-58q7</td>\n",
       "      <td>38.15</td>\n",
       "      <td>10</td>\n",
       "      <td>x4rvv3iy</td>\n",
       "      <td>2021-03-23T20:35:26</td>\n",
       "      <td>True</td>\n",
       "      <td>71.520828</td>\n",
       "      <td>102112</td>\n",
       "      <td>w21z61q6</td>\n",
       "      <td>False</td>\n",
       "      <td>False</td>\n",
       "      <td>False</td>\n",
       "      <td>False</td>\n",
       "      <td>False</td>\n",
       "      <td>False</td>\n",
       "      <td>False</td>\n",
       "      <td>False</td>\n",
       "    </tr>\n",
       "  </tbody>\n",
       "</table>\n",
       "</div>"
      ],
      "text/plain": [
       "      order_id  order_value  order_items_count customer_id  \\\n",
       "618  b8ds-tqhf        40.44                 10    h6huq0td   \n",
       "619  x5xx-j2d2        35.60                 10    t2nod4rq   \n",
       "620  x6qu-14kt        42.49                 12    m4ycd3tm   \n",
       "621  x3yw-rhc5        14.40                 11    sgmnf9sb   \n",
       "622  y9zp-58q7        38.15                 10    x4rvv3iy   \n",
       "\n",
       "    created_timestamp_local  has_instruction  logistics_dropoff_distance  \\\n",
       "618     2021-03-11T20:19:50             True                   58.656138   \n",
       "619     2021-03-12T18:42:48             True                   39.025148   \n",
       "620     2021-03-27T11:29:17             True                   40.067811   \n",
       "621     2021-03-02T22:08:52             True                   44.986785   \n",
       "622     2021-03-23T20:35:26             True                   71.520828   \n",
       "\n",
       "    delivery_postal_code delivery_geohash_precision8  has_phone_number  \\\n",
       "618               828868                    w23bh248             False   \n",
       "619               530548                    w21zu55k             False   \n",
       "620               650248                    w21z9jc4             False   \n",
       "621               550105                    w21zg97y             False   \n",
       "622               102112                    w21z61q6             False   \n",
       "\n",
       "     has_call_instruction  has_leave_instruction  has_lift_instruction  \\\n",
       "618                 False                  False                 False   \n",
       "619                 False                  False                 False   \n",
       "620                 False                   True                 False   \n",
       "621                 False                  False                 False   \n",
       "622                 False                  False                 False   \n",
       "\n",
       "     has_lobby_instruction  has_gate_instruction  has_knock_instruction  \\\n",
       "618                  False                 False                  False   \n",
       "619                  False                 False                  False   \n",
       "620                  False                 False                  False   \n",
       "621                  False                 False                  False   \n",
       "622                  False                 False                  False   \n",
       "\n",
       "     has_bell_instruction  \n",
       "618                 False  \n",
       "619                 False  \n",
       "620                 False  \n",
       "621                 False  \n",
       "622                 False  "
      ]
     },
     "execution_count": 11,
     "metadata": {},
     "output_type": "execute_result"
    }
   ],
   "source": [
    "full_data_df.head()"
   ]
  },
  {
   "cell_type": "code",
   "execution_count": 12,
   "id": "5be2451b-e3f9-45d7-9a3b-b644a08419c5",
   "metadata": {},
   "outputs": [
    {
     "name": "stdout",
     "output_type": "stream",
     "text": [
      "y9zp-58q7\n",
      "38.15\n",
      "10\n",
      "x4rvv3iy\n",
      "2021-03-23T20:35:26\n",
      "True\n",
      "71.5208276378\n",
      "102112\n",
      "w21z61q6\n",
      "False\n",
      "False\n",
      "False\n",
      "False\n",
      "False\n",
      "False\n",
      "False\n",
      "False\n"
     ]
    }
   ],
   "source": [
    "# checking is join operation was done correctly\n",
    "for col in data_dict.keys():\n",
    "    print(data_dict[col]['622'])"
   ]
  },
  {
   "cell_type": "code",
   "execution_count": 13,
   "id": "8932d157-4fee-48b4-bd33-c6a3b067642d",
   "metadata": {},
   "outputs": [
    {
     "name": "stdout",
     "output_type": "stream",
     "text": [
      "True\n"
     ]
    }
   ],
   "source": [
    "# checking if join operation was done correctly\n",
    "print(len(full_data_df.columns) == len(list(data_dict.keys())))"
   ]
  },
  {
   "cell_type": "code",
   "execution_count": 18,
   "id": "ad4496fa-d0b7-460c-a3c9-27d60120b3b7",
   "metadata": {},
   "outputs": [],
   "source": [
    "# sorting data by timestamp, and spliting it into test and train sets\n",
    "# date_str_to_timestamp = lambda x: datetime.strptime(x,'%Y-%m-%dT%H:%M:%S')\n",
    "# full_data_df['timestamp_unix'] = full_data_df['created_timestamp_local'].apply(date_str_to_timestamp)\n",
    "# del full_data_df['created_timestamp_local']\n",
    "full_data_df.sort_values(by='created_timestamp_local', inplace=True)\n",
    "train_split = int(len(full_data_df)*0.785)\n",
    "full_data_df.iloc[:train_split,].to_csv('../data/train_data.csv',index=False)\n",
    "full_data_df.iloc[train_split:,].to_csv('../data/test_data.csv',index=False)"
   ]
  },
  {
   "cell_type": "code",
   "execution_count": null,
   "id": "a4d9b2b4-93e8-4053-acb7-b539cf17650f",
   "metadata": {},
   "outputs": [],
   "source": []
  }
 ],
 "metadata": {
  "kernelspec": {
   "display_name": "Python 3",
   "language": "python",
   "name": "python3"
  },
  "language_info": {
   "codemirror_mode": {
    "name": "ipython",
    "version": 3
   },
   "file_extension": ".py",
   "mimetype": "text/x-python",
   "name": "python",
   "nbconvert_exporter": "python",
   "pygments_lexer": "ipython3",
   "version": "3.6.15"
  }
 },
 "nbformat": 4,
 "nbformat_minor": 5
}
